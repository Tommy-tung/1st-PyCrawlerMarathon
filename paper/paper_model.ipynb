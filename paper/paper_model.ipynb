{
 "cells": [
  {
   "cell_type": "code",
   "execution_count": 24,
   "metadata": {},
   "outputs": [],
   "source": [
    "import pandas as pd \n",
    "import numpy as np\n",
    "import stackprinter \n",
    "import matplotlib.pyplot as plt\n",
    "import random \n",
    "from paper_dataprepare import data_preparation \n",
    "from sklearn.preprocessing import StandardScaler\n",
    "from sklearn.model_selection import GridSearchCV\n",
    "from sklearn.pipeline import Pipeline\n",
    "from sklearn.metrics import confusion_matrix\n",
    "from sklearn.metrics import accuracy_score,recall_score,precision_score,f1_score\n",
    "from sklearn.metrics import roc_curve\n",
    "from sklearn.metrics import auc\n",
    "from sklearn.decomposition import PCA \n",
    "from sklearn.linear_model import LogisticRegression\n",
    "from sklearn.svm import SVC\n",
    "from sklearn.ensemble import RandomForestClassifier\n",
    "from sklearn.neural_network import MLPClassifier\n",
    "stackprinter.set_excepthook(style='darkbg2')"
   ]
  },
  {
   "cell_type": "code",
   "execution_count": 2,
   "metadata": {},
   "outputs": [],
   "source": [
    "data = pd.read_excel('/Users/tommy84729/python/論文/data/EI.xlsx',encoding = 'utfx-8').drop('利息保障倍數', axis = 'columns')"
   ]
  },
  {
   "cell_type": "code",
   "execution_count": 3,
   "metadata": {},
   "outputs": [],
   "source": [
    "macro = pd.read_csv('/Users/tommy84729/python/論文/data/macro.csv',encoding = 'big5', index_col = None).drop('年', axis = 'columns')"
   ]
  },
  {
   "cell_type": "code",
   "execution_count": 30,
   "metadata": {},
   "outputs": [],
   "source": [
    "name1 = ['存貨週轉率（次）', '當季季底P/B']\n",
    "name2 = ['存貨週轉率（次）', '應收帳款週轉次數', '總資產週轉次數', '固定資產週轉次數', '總負債/總淨值','當季季底P/B','淨值']\n",
    "num = 0.00001\n",
    "model = data_preparation(data, macro)"
   ]
  },
  {
   "cell_type": "code",
   "execution_count": 31,
   "metadata": {},
   "outputs": [],
   "source": [
    "model.macro_pre()\n",
    "model.distress_pre()\n",
    "model.create_data()\n",
    "model.creat_X_Y()\n",
    "model.creat_train_test(0.3)\n",
    "model.x_train, model.y_train = model.clean_data(name1, name2, num, model.x_train, model.y_train)"
   ]
  },
  {
   "cell_type": "code",
   "execution_count": 54,
   "metadata": {},
   "outputs": [],
   "source": [
    "class hybrid : \n",
    "    \n",
    "    def __init__(self, x_train, y_train, x_test, y_test, cv, score) :\n",
    "        \n",
    "        self.x_train = x_train\n",
    "        self.y_train = np.array(y_train).ravel()\n",
    "        self.x_test = x_test\n",
    "        self.y_test = np.array(y_test).ravel()\n",
    "        self.score = score\n",
    "        self.cv = cv\n",
    "        \n",
    "    def scale(self) : \n",
    "        \n",
    "        scale = StandardScaler()\n",
    "        #scale.fit(train)\n",
    "        self.x_train = scale.fit_transform(self.x_train)\n",
    "        self.x_test = scale.transform(self.x_test)\n",
    "        \n",
    "    def pca(self, n) : \n",
    "        self.pca = PCA(n_components = n)\n",
    "        self.x_train_pca = self.pca.fit_transform(self.x_train)\n",
    "        self.x_test_pca = self.pca.transform(self.x_test)\n",
    "        \n",
    "        \n",
    "    def logistic(self, param_grid ) : \n",
    "        \n",
    "        self.logistic = GridSearchCV(LogisticRegression(), param_grid , scoring = self.score, cv = self.cv)\n",
    "        self.logistic.fit(self.x_train, self.y_train)\n",
    "        print('Logistic training complete ', self.logistic.best_estimator_, self.logistic.best_score_ ,sep = '\\n')\n",
    "        print('===============================')\n",
    "        \n",
    "    def svm(self, param_grid) :\n",
    "        \n",
    "        self.svm = GridSearchCV(SVC(), param_grid , scoring = self.score, cv = self.cv)\n",
    "        self.svm.fit(self.x_train, self.y_train)\n",
    "        print('SVM training complete', self.svm.best_estimator_, self.svm.best_score_ ,sep = '\\n')\n",
    "        print('===============================')\n",
    "    \n",
    "    def rf(self, param_grid) :\n",
    "        \n",
    "        self.rf = GridSearchCV(RandomForestClassifier(), param_grid , scoring = self.score, cv = self.cv)\n",
    "        self.rf.fit(self.x_train, self.y_train)\n",
    "        print('RF training complete', self.rf.best_estimator_, self.rf.best_score_ ,sep = '\\n')\n",
    "        print('===============================')\n",
    "        \n",
    "    def mlp(self, param_grid) :\n",
    "        \n",
    "        self.mlp = GridSearchCV(MLPClassifier(), param_grid , scoring = self.score, cv = self.cv)\n",
    "        self.mlp.fit(self.x_train, self.y_train)\n",
    "        print('MLP training complete', self.mlp.best_estimator_,self.mlp.best_score_ , sep = '\\n')\n",
    "        print('===============================')\n",
    "        \n",
    "        \n",
    "    def meta_data(self) : \n",
    "        \n",
    "        logit_train = pd.DataFrame(self.logistic.predict_proba(self.x_train)[:,0])\n",
    "        logit_test = pd.DataFrame(self.logistic.predict_proba(self.x_test)[:,0])\n",
    "        svm_train = pd.DataFrame(self.svm.predict_proba(self.x_train)[:,0])\n",
    "        svm_test = pd.DataFrame(self.svm.predict_proba(self.x_test)[:,0])\n",
    "        rf_train = pd.DataFrame(self.rf.predict_proba(self.x_train)[:,0])\n",
    "        rf_test = pd.DataFrame(self.rf.predict_proba(self.x_test)[:,0])\n",
    "        mlp_train = pd.DataFrame(self.mlp.predict_proba(self.x_train)[:,0])\n",
    "        mlp_test = pd.DataFrame(self.mlp.predict_proba(self.x_test)[:,0])\n",
    "        self.meta_train = pd.concat([pd.DataFrame(self.x_train_pca), logit_train, svm_train, rf_train, mlp_train], \n",
    "                                    axis = 1, \n",
    "                                    ignore_index = True)\n",
    "        self.meta_test = pd.concat([pd.DataFrame(self.x_test_pca), logit_test, svm_test, rf_test, mlp_test], \n",
    "                                   axis = 1, \n",
    "                                   ignore_index = True)\n",
    "     \n",
    "    def hybrid_model(self, param_grid_h_rf, param_grid_h_mlp, cv, score) : \n",
    "        \n",
    "        self.hybrid_rf = GridSearchCV(RandomForestClassifier(), \n",
    "                                      param_grid_h_rf , \n",
    "                                      scoring = score, \n",
    "                                      cv = cv)\n",
    "        self.hybrid_rf.fit(self.meta_train, self.y_train)\n",
    "        print('hybrid RF training complete', self.hybrid_rf.best_estimator_,self.hybrid_rf.best_score_ , sep = '\\n')\n",
    "        print('===============================')\n",
    "        self.hybrid_mlp = GridSearchCV(MLPClassifier(), param_grid_h_mlp , scoring = score, cv = cv)\n",
    "        self.hybrid_mlp.fit(self.meta_train, self.y_train)\n",
    "        print('hybrid MLP training complete', self.hybrid_mlp.best_estimator_,self.hybrid_mlp.best_score_ , sep = '\\n')\n",
    "        print('===============================')\n",
    "    \n",
    "    def roc_curve(self, model, label, color, linestyle, x, y) : \n",
    "        \n",
    "        for clf, label, clr, ls in zip(model, label, color, linestyle) : \n",
    "            y_pred = clf.predict_proba(x)[:, 1]\n",
    "            fpr, tpr, threshold = roc_curve(y_true = y, \n",
    "                                            y_score = y_pred)\n",
    "            roc_auc = auc(x = fpr, y = tpr)\n",
    "            plt.plot(fpr, tpr, color = clr, \n",
    "                     linestyle = ls, \n",
    "                     label = '%s (auc = %0.2f)' %(label, roc_auc))\n",
    "        plt.legend(loc = 'lower right')\n",
    "        plt.plot([0, 1], [0, 1], \n",
    "                 color='navy', \n",
    "                 lw =2, \n",
    "                 linestyle='--')\n",
    "        plt.xlim([-0.05, 1.0])\n",
    "        plt.ylim([-0.05, 1.05])\n",
    "        plt.xlabel('False Positive Rate')\n",
    "        plt.ylabel('True Positive Rate')\n",
    "        plt.title('ROC curve')\n",
    "        \n",
    "\n",
    "    @staticmethod    \n",
    "    def metric(data,true_value, model) : \n",
    "        \n",
    "        cnf =  confusion_matrix(true_value, \n",
    "                                model.predict( data))\n",
    "        acc =  accuracy_score(true_value, model.predict( data))\n",
    "        prec = precision_score(true_value, model.predict( data))\n",
    "        recall = recall_score(true_value, model.predict( data))\n",
    "        f1 = f1_score(true_value, model.predict( data))\n",
    "        return cnf, acc, prec, recall, f1\n",
    "        \n",
    "        \n",
    "        '''\n",
    "        predict = self.estimator1.predict(test)\n",
    "        self.metric_\n",
    "        \n",
    "\n",
    "        self.ratio = pca.explained_variance_ratio_\n",
    "        self.eigenvalues = pca.explained_variance_\n",
    "        self.loading = pca.components_\n",
    "        self.pca_train = pca.transform(train)\n",
    "        self.pca_test = pca.trainsform(test)\n",
    "        '''\n",
    "        "
   ]
  },
  {
   "cell_type": "code",
   "execution_count": 55,
   "metadata": {},
   "outputs": [],
   "source": [
    "hybrid_model = hybrid(model.x_train, model.y_train, model.x_test, model.y_test, 3, 'f1_weighted')"
   ]
  },
  {
   "cell_type": "code",
   "execution_count": 56,
   "metadata": {},
   "outputs": [],
   "source": [
    "hybrid_model.scale()\n",
    "hybrid_model.pca(10)"
   ]
  },
  {
   "cell_type": "code",
   "execution_count": 57,
   "metadata": {},
   "outputs": [],
   "source": [
    "param_grid_lg = [\n",
    "        {\n",
    "            'penalty' : [ 'none'],\n",
    "            'solver' : ['lbfgs'],\n",
    "            'class_weight': [ 'balanced'],\n",
    "            'fit_intercept' : [True],\n",
    "            'max_iter' : [10000]\n",
    "        }\n",
    "       ]\n",
    "param_grid_svm = [\n",
    "        {\n",
    "            'C' : [50],#10,50,100],\n",
    "            'kernel' : ['rbf'],\n",
    "            'probability' : [True],\n",
    "            #'class_weight': [ {0:1,1:1.5},{0:1,1:2},{0:1,1:2.5} ],\n",
    "            'random_state' : [10],\n",
    "        }\n",
    "       ]\n",
    "param_grid_rf = [\n",
    "        {\n",
    "            'n_estimators' : [200],#,300,400,500],\n",
    "            'criterion' : ['gini'],\n",
    "            #'class_weight' : ['balanced']\n",
    "            #'class_weight': [ {0:1,1:1.5},{0:1,1:2} ,{0:1,1:2.5}, {0:1,1:3}],\n",
    "            'max_depth' : [6]\n",
    "        }\n",
    "       ]\n",
    "param_grid_mlp = [\n",
    "        {\n",
    "            'activation' : ['relu'],\n",
    "            'solver' : ['adam'],\n",
    "            'hidden_layer_sizes': [\n",
    "             (64,32,),(128,64,),(256,128,)#,(128,64,32,),(64,32,16,)\n",
    "             ],\n",
    "            'learning_rate' : ['constant'],\n",
    "            'learning_rate_init' : [0.001, 0.005],\n",
    "            'random_state' : [1],\n",
    "            'early_stopping' : [True]\n",
    "        }\n",
    "       ]"
   ]
  },
  {
   "cell_type": "code",
   "execution_count": 58,
   "metadata": {},
   "outputs": [
    {
     "name": "stdout",
     "output_type": "stream",
     "text": [
      "Logistic training complete \n",
      "LogisticRegression(C=1.0, class_weight='balanced', dual=False,\n",
      "                   fit_intercept=True, intercept_scaling=1, l1_ratio=None,\n",
      "                   max_iter=10000, multi_class='auto', n_jobs=None,\n",
      "                   penalty='none', random_state=None, solver='lbfgs',\n",
      "                   tol=0.0001, verbose=0, warm_start=False)\n",
      "0.8613797045216818\n",
      "===============================\n",
      "SVM training complete\n",
      "SVC(C=50, break_ties=False, cache_size=200, class_weight=None, coef0=0.0,\n",
      "    decision_function_shape='ovr', degree=3, gamma='scale', kernel='rbf',\n",
      "    max_iter=-1, probability=True, random_state=10, shrinking=True, tol=0.001,\n",
      "    verbose=False)\n",
      "0.8798922974528062\n",
      "===============================\n",
      "RF training complete\n",
      "RandomForestClassifier(bootstrap=True, ccp_alpha=0.0, class_weight=None,\n",
      "                       criterion='gini', max_depth=6, max_features='auto',\n",
      "                       max_leaf_nodes=None, max_samples=None,\n",
      "                       min_impurity_decrease=0.0, min_impurity_split=None,\n",
      "                       min_samples_leaf=1, min_samples_split=2,\n",
      "                       min_weight_fraction_leaf=0.0, n_estimators=200,\n",
      "                       n_jobs=None, oob_score=False, random_state=None,\n",
      "                       verbose=0, warm_start=False)\n",
      "0.8941124751414232\n",
      "===============================\n",
      "MLP training complete\n",
      "MLPClassifier(activation='relu', alpha=0.0001, batch_size='auto', beta_1=0.9,\n",
      "              beta_2=0.999, early_stopping=True, epsilon=1e-08,\n",
      "              hidden_layer_sizes=(128, 64), learning_rate='constant',\n",
      "              learning_rate_init=0.005, max_fun=15000, max_iter=200,\n",
      "              momentum=0.9, n_iter_no_change=10, nesterovs_momentum=True,\n",
      "              power_t=0.5, random_state=1, shuffle=True, solver='adam',\n",
      "              tol=0.0001, validation_fraction=0.1, verbose=False,\n",
      "              warm_start=False)\n",
      "0.8880886931212348\n",
      "===============================\n"
     ]
    }
   ],
   "source": [
    "hybrid_model.logistic(param_grid_lg)\n",
    "hybrid_model.svm(param_grid_svm)\n",
    "hybrid_model.rf(param_grid_rf)\n",
    "hybrid_model.mlp(param_grid_mlp)"
   ]
  },
  {
   "cell_type": "code",
   "execution_count": 48,
   "metadata": {},
   "outputs": [],
   "source": [
    "clf = [hybrid_model.logistic, hybrid_model.svm, hybrid_model.rf, hybrid_model.mlp]\n",
    "label = ['Logistic', 'SVM', 'RF', 'MLP']\n",
    "color = ['black', 'orange', 'yellow', 'green']\n",
    "ls = [':', '--', '-.', '-']\n"
   ]
  },
  {
   "cell_type": "code",
   "execution_count": 49,
   "metadata": {},
   "outputs": [
    {
     "data": {
      "image/png": "[encoded data removed]",
      "text/plain": [
       "<Figure size 432x288 with 1 Axes>"
      ]
     },
     "metadata": {
      "needs_background": "light"
     },
     "output_type": "display_data"
    }
   ],
   "source": [
    "hybrid_model.roc_curve(clf, label, color, ls, hybrid_model.x_train, hybrid_model.y_train)"
   ]
  },
  {
   "cell_type": "code",
   "execution_count": 61,
   "metadata": {},
   "outputs": [],
   "source": [
    "param_grid_h_rf = [\n",
    "        {\n",
    "            'n_estimators' : [1000],\n",
    "            'criterion' : ['entropy'],\n",
    "            'class_weight': [{0:1,1:4}, {0:1,1:3} ],\n",
    "            'max_depth' : [6]\n",
    "            \n",
    "        }\n",
    "       ]\n",
    "\n",
    "param_grid_h_mlp = [\n",
    "        {\n",
    "            'activation' : ['relu'],\n",
    "            'solver' : ['adam'],\n",
    "            'hidden_layer_sizes': [\n",
    "             (64,32,),(128,64,)#,(128,64,32,),(32,16,)\n",
    "             ],\n",
    "            'learning_rate' : ['constant','adaptive'],\n",
    "            'learning_rate_init' : [0.001, 0.005],\n",
    "            'random_state' : [1],\n",
    "            'max_iter' : [10000]\n",
    "        }\n",
    "       ]"
   ]
  },
  {
   "cell_type": "code",
   "execution_count": 59,
   "metadata": {},
   "outputs": [],
   "source": [
    "hybrid_model.meta_data()"
   ]
  },
  {
   "cell_type": "code",
   "execution_count": 62,
   "metadata": {},
   "outputs": [
    {
     "name": "stdout",
     "output_type": "stream",
     "text": [
      "hybrid RF training complete\n",
      "RandomForestClassifier(bootstrap=True, ccp_alpha=0.0, class_weight={0: 1, 1: 3},\n",
      "                       criterion='entropy', max_depth=6, max_features='auto',\n",
      "                       max_leaf_nodes=None, max_samples=None,\n",
      "                       min_impurity_decrease=0.0, min_impurity_split=None,\n",
      "                       min_samples_leaf=1, min_samples_split=2,\n",
      "                       min_weight_fraction_leaf=0.0, n_estimators=1000,\n",
      "                       n_jobs=None, oob_score=False, random_state=None,\n",
      "                       verbose=0, warm_start=False)\n",
      "0.9819262252796855\n",
      "===============================\n"
     ]
    },
    {
     "name": "stderr",
     "output_type": "stream",
     "text": [
      "/Library/anaconda3/lib/python3.7/site-packages/sklearn/neural_network/_multilayer_perceptron.py:571: ConvergenceWarning: Stochastic Optimizer: Maximum iterations (200) reached and the optimization hasn't converged yet.\n",
      "  % self.max_iter, ConvergenceWarning)\n",
      "/Library/anaconda3/lib/python3.7/site-packages/sklearn/neural_network/_multilayer_perceptron.py:571: ConvergenceWarning: Stochastic Optimizer: Maximum iterations (200) reached and the optimization hasn't converged yet.\n",
      "  % self.max_iter, ConvergenceWarning)\n",
      "/Library/anaconda3/lib/python3.7/site-packages/sklearn/neural_network/_multilayer_perceptron.py:571: ConvergenceWarning: Stochastic Optimizer: Maximum iterations (200) reached and the optimization hasn't converged yet.\n",
      "  % self.max_iter, ConvergenceWarning)\n",
      "/Library/anaconda3/lib/python3.7/site-packages/sklearn/neural_network/_multilayer_perceptron.py:571: ConvergenceWarning: Stochastic Optimizer: Maximum iterations (200) reached and the optimization hasn't converged yet.\n",
      "  % self.max_iter, ConvergenceWarning)\n",
      "/Library/anaconda3/lib/python3.7/site-packages/sklearn/neural_network/_multilayer_perceptron.py:571: ConvergenceWarning: Stochastic Optimizer: Maximum iterations (200) reached and the optimization hasn't converged yet.\n",
      "  % self.max_iter, ConvergenceWarning)\n",
      "/Library/anaconda3/lib/python3.7/site-packages/sklearn/neural_network/_multilayer_perceptron.py:571: ConvergenceWarning: Stochastic Optimizer: Maximum iterations (200) reached and the optimization hasn't converged yet.\n",
      "  % self.max_iter, ConvergenceWarning)\n",
      "/Library/anaconda3/lib/python3.7/site-packages/sklearn/neural_network/_multilayer_perceptron.py:571: ConvergenceWarning: Stochastic Optimizer: Maximum iterations (200) reached and the optimization hasn't converged yet.\n",
      "  % self.max_iter, ConvergenceWarning)\n",
      "/Library/anaconda3/lib/python3.7/site-packages/sklearn/neural_network/_multilayer_perceptron.py:571: ConvergenceWarning: Stochastic Optimizer: Maximum iterations (200) reached and the optimization hasn't converged yet.\n",
      "  % self.max_iter, ConvergenceWarning)\n",
      "/Library/anaconda3/lib/python3.7/site-packages/sklearn/neural_network/_multilayer_perceptron.py:571: ConvergenceWarning: Stochastic Optimizer: Maximum iterations (200) reached and the optimization hasn't converged yet.\n",
      "  % self.max_iter, ConvergenceWarning)\n",
      "/Library/anaconda3/lib/python3.7/site-packages/sklearn/neural_network/_multilayer_perceptron.py:571: ConvergenceWarning: Stochastic Optimizer: Maximum iterations (200) reached and the optimization hasn't converged yet.\n",
      "  % self.max_iter, ConvergenceWarning)\n"
     ]
    },
    {
     "name": "stdout",
     "output_type": "stream",
     "text": [
      "hybrid MLP training complete\n",
      "MLPClassifier(activation='relu', alpha=0.0001, batch_size='auto', beta_1=0.9,\n",
      "              beta_2=0.999, early_stopping=False, epsilon=1e-08,\n",
      "              hidden_layer_sizes=(64, 32), learning_rate='constant',\n",
      "              learning_rate_init=0.001, max_fun=15000, max_iter=200,\n",
      "              momentum=0.9, n_iter_no_change=10, nesterovs_momentum=True,\n",
      "              power_t=0.5, random_state=1, shuffle=True, solver='adam',\n",
      "              tol=0.0001, validation_fraction=0.1, verbose=False,\n",
      "              warm_start=False)\n",
      "0.9794029400281504\n",
      "===============================\n"
     ]
    }
   ],
   "source": [
    "hybrid_model.hybrid_model(param_grid_h_rf, param_grid_h_mlp, 3, 'f1_weighted')"
   ]
  },
  {
   "cell_type": "code",
   "execution_count": 65,
   "metadata": {},
   "outputs": [],
   "source": [
    "clf_h = [hybrid_model.hybrid_rf, hybrid_model.hybrid_mlp]\n",
    "label_h = ['hybrid_RF', 'hybrid_MLP']\n",
    "color_h = [ 'orange', 'yellow']\n",
    "ls_h = ['--', '-.']"
   ]
  },
  {
   "cell_type": "code",
   "execution_count": 66,
   "metadata": {},
   "outputs": [
    {
     "data": {
      "image/png": "[encoded data removed]",
      "text/plain": [
       "<Figure size 432x288 with 1 Axes>"
      ]
     },
     "metadata": {
      "needs_background": "light"
     },
     "output_type": "display_data"
    }
   ],
   "source": [
    "hybrid_model.roc_curve(clf_h, label_h, color_h, ls_h, hybrid_model.meta_test, hybrid_model.y_test)"
   ]
  },
  {
   "cell_type": "code",
   "execution_count": null,
   "metadata": {},
   "outputs": [],
   "source": []
  }
 ],
 "metadata": {
  "kernelspec": {
   "display_name": "Python 3",
   "language": "python",
   "name": "python3"
  },
  "language_info": {
   "codemirror_mode": {
    "name": "ipython",
    "version": 3
   },
   "file_extension": ".py",
   "mimetype": "text/x-python",
   "name": "python",
   "nbconvert_exporter": "python",
   "pygments_lexer": "ipython3",
   "version": "3.7.3"
  }
 },
 "nbformat": 4,
 "nbformat_minor": 4
}
